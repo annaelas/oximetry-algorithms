{
 "cells": [
  {
   "cell_type": "code",
   "execution_count": 1,
   "metadata": {},
   "outputs": [],
   "source": [
    "import numpy as np\n",
    "import scipy.io\n",
    "import scipy.signal\n",
    "import matplotlib.pyplot as plt\n",
    "from datascience import *\n",
    "import math as m"
   ]
  },
  {
   "cell_type": "code",
   "execution_count": 6,
   "metadata": {},
   "outputs": [],
   "source": [
    "def PowerLabDataReader (file_name, file_format, RED_offset, NIR_offset, FS_raw, TS):\n",
    "    file = np.loadtxt(file_name+file_format, delimiter = '\\t', skiprows = 6)\n",
    "    TS_raw = 1/FS_raw # (s/sample)\n",
    "    LEN = len(file) # length of data\n",
    "\n",
    "    FS = 1/TS # (sample/s) new sampling frequency\n",
    "\n",
    "    TIME = np.arange(0,LEN*TS,TS)\n",
    "\n",
    "    RED_dim = np.arange(m.ceil(RED_offset*FS_raw), LEN, m.ceil(TS*FS_raw))\n",
    "    NIR_dim = np.arange(m.ceil(NIR_offset*FS_raw), LEN, m.ceil(TS*FS_raw))\n",
    "    RED_full = file[RED_dim]\n",
    "    NIR_full = file[NIR_dim]\n",
    "    \n",
    "    RED = make_array()\n",
    "\n",
    "    for i in np.arange(len(RED_full)):\n",
    "        RED = np.append(RED, RED_full[i][np.arange(1,5)])\n",
    "\n",
    "    NIR = make_array()\n",
    "\n",
    "    for i in np.arange(len(NIR_full)):\n",
    "        NIR = np.append(NIR, NIR_full[i][np.arange(1,5)])\n",
    "        \n",
    "    dictionary = {'TIME': TIME, 'NIR': NIR, 'RED': RED}\n",
    "    \n",
    "    output = scipy.io.savemat('cycling_4_FunctionTest.mat', dictionary)\n",
    "    \n",
    "    return TIME, RED, NIR, output"
   ]
  },
  {
   "cell_type": "code",
   "execution_count": 7,
   "metadata": {},
   "outputs": [
    {
     "data": {
      "text/plain": [
       "(array([0.0000000e+00, 1.2000000e-03, 2.4000000e-03, ..., 2.1659976e+03,\n",
       "        2.1659988e+03, 2.1660000e+03]),\n",
       " array([412.2188, 413.4063, 436.4375, ..., 405.4688, 434.25  , 454.2188]),\n",
       " array([412.125 , 413.3438, 436.5   , ..., 405.4063, 434.25  , 454.25  ]),\n",
       " None)"
      ]
     },
     "execution_count": 7,
     "metadata": {},
     "output_type": "execute_result"
    }
   ],
   "source": [
    "PowerLabDataReader('cycling_4', '.txt', 0.7e-3, 0.1e-3, 10000, 1.2e-3)"
   ]
  },
  {
   "cell_type": "code",
   "execution_count": null,
   "metadata": {},
   "outputs": [],
   "source": []
  }
 ],
 "metadata": {
  "kernelspec": {
   "display_name": "Python 3",
   "language": "python",
   "name": "python3"
  },
  "language_info": {
   "codemirror_mode": {
    "name": "ipython",
    "version": 3
   },
   "file_extension": ".py",
   "mimetype": "text/x-python",
   "name": "python",
   "nbconvert_exporter": "python",
   "pygments_lexer": "ipython3",
   "version": "3.8.8"
  }
 },
 "nbformat": 4,
 "nbformat_minor": 4
}
